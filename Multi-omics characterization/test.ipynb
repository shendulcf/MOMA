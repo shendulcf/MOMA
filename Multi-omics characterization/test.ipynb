{
 "cells": [
  {
   "cell_type": "code",
   "execution_count": null,
   "metadata": {},
   "outputs": [],
   "source": [
    "!cd smooth-topk\n",
    "!python setup.py install"
   ]
  },
  {
   "cell_type": "code",
   "execution_count": 3,
   "metadata": {},
   "outputs": [
    {
     "name": "stdout",
     "output_type": "stream",
     "text": [
      "usage: Experimental Setting [-h] [--cancer_type CANCER_TYPE] [--level LEVEL]\n",
      "                            [--hidden_dim HIDDEN_DIM]\n",
      "                            [--encoder_layer ENCODER_LAYER]\n",
      "                            [--k_sample K_SAMPLE] [--save_path SAVE_PATH]\n",
      "                            [--use_kather_data USE_KATHER_DATA]\n",
      "                            [--label LABEL] [--lr LR] [--epoch EPOCH]\n",
      "                            [--tau TAU] [--evaluate_mode EVALUATE_MODE]\n",
      "                            [--kfold KFOLD]\n",
      "\n",
      "optional arguments:\n",
      "  -h, --help            show this help message and exit\n",
      "  --cancer_type CANCER_TYPE\n",
      "                        Only including COAD, READ and CRC\n",
      "  --level LEVEL         Prediction level, slide or patient\n",
      "  --hidden_dim HIDDEN_DIM\n",
      "                        patch features dimension\n",
      "  --encoder_layer ENCODER_LAYER\n",
      "                        Number of Transformer Encoder layer\n",
      "  --k_sample K_SAMPLE   Number of top and bottom cluster to be selected\n",
      "  --save_path SAVE_PATH\n",
      "                        Model save path\n",
      "  --use_kather_data USE_KATHER_DATA\n",
      "  --label LABEL         path to label pickle file\n",
      "  --lr LR\n",
      "  --epoch EPOCH\n",
      "  --tau TAU\n",
      "  --evaluate_mode EVALUATE_MODE\n",
      "                        holdout or kfold\n",
      "  --kfold KFOLD\n"
     ]
    }
   ],
   "source": [
    "!python Train.py --help\n"
   ]
  },
  {
   "cell_type": "code",
   "execution_count": null,
   "metadata": {},
   "outputs": [],
   "source": [
    "!python "
   ]
  }
 ],
 "metadata": {
  "kernelspec": {
   "display_name": "test",
   "language": "python",
   "name": "python3"
  },
  "language_info": {
   "codemirror_mode": {
    "name": "ipython",
    "version": 3
   },
   "file_extension": ".py",
   "mimetype": "text/x-python",
   "name": "python",
   "nbconvert_exporter": "python",
   "pygments_lexer": "ipython3",
   "version": "3.9.12"
  },
  "orig_nbformat": 4
 },
 "nbformat": 4,
 "nbformat_minor": 2
}
